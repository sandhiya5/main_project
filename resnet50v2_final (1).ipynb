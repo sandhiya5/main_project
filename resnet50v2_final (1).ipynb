{
  "nbformat": 4,
  "nbformat_minor": 0,
  "metadata": {
    "colab": {
      "provenance": []
    },
    "kernelspec": {
      "name": "python3",
      "display_name": "Python 3"
    },
    "language_info": {
      "name": "python"
    }
  },
  "cells": [
    {
      "cell_type": "code",
      "execution_count": null,
      "metadata": {
        "id": "QkwgscFGHxZD",
        "colab": {
          "base_uri": "https://localhost:8080/"
        },
        "outputId": "e55c1d27-6eb5-49a7-fbe7-b8cf704b83e5"
      },
      "outputs": [
        {
          "output_type": "stream",
          "name": "stdout",
          "text": [
            "Drive already mounted at /content/drive; to attempt to forcibly remount, call drive.mount(\"/content/drive\", force_remount=True).\n"
          ]
        }
      ],
      "source": [
        "from google.colab import drive\n",
        "drive.mount('/content/drive')"
      ]
    },
    {
      "cell_type": "code",
      "source": [
        "import os\n",
        "import numpy as np\n",
        "import cv2\n",
        "\n",
        "# Function to load images from a directory and convert them to numpy arrays\n",
        "def load_images_from_folder(folder):\n",
        "    images = []\n",
        "    labels = []\n",
        "    for filename in os.listdir(folder):\n",
        "        img_path = os.path.join(folder, filename)\n",
        "        img = cv2.imread(img_path)\n",
        "        if img is not None:\n",
        "            images.append(img)\n",
        "            if \"COVID-\" in filename:\n",
        "                labels.append(1)  # COVID-19 Positive class\n",
        "            elif \"Normal-\" in filename:\n",
        "                labels.append(0)  # COVID-19 Negative class\n",
        "    return images, labels\n",
        "\n",
        "# Paths to folders containing images\n",
        "covid_positive_folder = \"/content/drive/MyDrive/main_project/Train/covid_positive_mask\"\n",
        "covid_negative_folder = \"/content/drive/MyDrive/main_project/Train/covid_negative_mask\"\n",
        "\n",
        "# Load images and corresponding labels\n",
        "covid_pos_images, covid_pos_labels = load_images_from_folder(covid_positive_folder)\n",
        "covid_neg_images, covid_neg_labels = load_images_from_folder(covid_negative_folder)\n",
        "\n",
        "# Convert lists to numpy arrays\n",
        "covid_pos_images = np.array(covid_pos_images)\n",
        "covid_neg_images = np.array(covid_neg_images)\n",
        "covid_pos_labels = np.array(covid_pos_labels)\n",
        "covid_neg_labels = np.array(covid_neg_labels)\n",
        "\n",
        "# Save numpy arrays and labels to .npy files\n",
        "np.save('covid_positive_images.npy', covid_pos_images)\n",
        "np.save('covid_negative_images.npy', covid_neg_images)\n",
        "np.save('covid_positive_labels.npy', covid_pos_labels)\n",
        "np.save('covid_negative_labels.npy', covid_neg_labels)\n"
      ],
      "metadata": {
        "id": "uIn1_ezEH2Y7"
      },
      "execution_count": null,
      "outputs": []
    },
    {
      "cell_type": "code",
      "source": [
        "import numpy as np\n",
        "\n",
        "# Load data\n",
        "covid_positive_images = np.load('covid_positive_images.npy')\n",
        "covid_negative_images = np.load('covid_negative_images.npy')\n",
        "covid_positive_labels = np.load('covid_positive_labels.npy')\n",
        "covid_negative_labels = np.load('covid_negative_labels.npy')\n",
        "\n",
        "# Combine positive and negative samples\n",
        "all_images = np.concatenate((covid_positive_images, covid_negative_images), axis=0)\n",
        "all_labels = np.concatenate((covid_positive_labels, covid_negative_labels), axis=0)\n",
        "\n",
        "# Debug: Print the sizes of the arrays\n",
        "print(len(all_images))\n",
        "print(len(all_labels))\n",
        "# Shuffle indices\n",
        "idx = np.arange(len(all_images))\n",
        "np.random.shuffle(idx)\n",
        "\n",
        "\n",
        "# Apply the permutation to shuffle the data\n",
        "all_images_shuffled = all_images[idx]\n",
        "all_labels_shuffled = all_labels[idx]\n",
        "\n",
        "\n",
        "# Split data into training and validation sets\n",
        "split = int(0.8 * len(all_images))\n",
        "train_images, val_images = all_images[:split], all_images[split:]\n",
        "train_labels, val_labels = all_labels[:split], all_labels[split:]\n"
      ],
      "metadata": {
        "colab": {
          "base_uri": "https://localhost:8080/"
        },
        "id": "gc45vbkPIIvR",
        "outputId": "c2043fbd-16b4-4cc4-d883-2f5ddcdd4175"
      },
      "execution_count": null,
      "outputs": [
        {
          "output_type": "stream",
          "name": "stdout",
          "text": [
            "2000\n",
            "2000\n"
          ]
        }
      ]
    },
    {
      "cell_type": "code",
      "source": [
        "from tensorflow.keras.applications import ResNet50V2\n",
        "from tensorflow.keras.layers import Dense, Flatten\n",
        "from tensorflow.keras.models import Model\n",
        "from tensorflow.keras.optimizers import Adam\n",
        "from keras.callbacks import EarlyStopping\n",
        "import numpy as np\n",
        "from scipy import ndimage\n",
        "\n",
        "# Load pre-trained Resnet model\n",
        "base_model = ResNet50V2(weights='imagenet', include_top=False, input_shape=(224, 224, 3))\n",
        "\n",
        "# Freeze convolutional layers\n",
        "for layer in base_model.layers:\n",
        "    layer.trainable = False\n",
        "\n",
        "# Add custom classification head\n",
        "x = Flatten()(base_model.output)\n",
        "x = Dense(256, activation='relu')(x)\n",
        "output = Dense(1, activation='sigmoid')(x)\n",
        "\n",
        "# Create model\n",
        "model = Model(inputs=base_model.input, outputs=output)\n",
        "\n",
        "learning_rate = 0.001\n",
        "# Define the optimizer with the specified learning rate\n",
        "optimizer = Adam(learning_rate=learning_rate)\n",
        "\n",
        "model.compile(optimizer=optimizer,\n",
        "              loss='binary_crossentropy',\n",
        "              metrics=['accuracy'])\n",
        "\n",
        "es = EarlyStopping(monitor='val_loss', mode='max', verbose=1, patience=5)\n",
        "# Define a function to resize numpy arrays\n",
        "def resize_array(array, new_shape):\n",
        "    return np.array([ndimage.zoom(img, (new_shape[0] / img.shape[0], new_shape[1] / img.shape[1], 1), order=1) for img in array])\n",
        "\n",
        "\n",
        "# Resize input numpy arrays to match the desired shape\n",
        "train_images_resized = resize_array(train_images, (224, 224))\n",
        "val_images_resized = resize_array(val_images, (224, 224))\n",
        "\n",
        "# Ensure data is in the correct format\n",
        "train_images_resized = train_images_resized.astype('float32') / 255.0\n",
        "val_images_resized = val_images_resized.astype('float32') / 255.0\n",
        "\n",
        "# Now, you can fit your model with the resized numpy arrays\n",
        "H = model.fit(train_images_resized, train_labels, validation_data=(val_images_resized, val_labels), epochs=10, verbose=1, callbacks=[es])\n"
      ],
      "metadata": {
        "colab": {
          "base_uri": "https://localhost:8080/"
        },
        "id": "UF60ZshWIfFj",
        "outputId": "08560ed9-c322-48fe-d9bc-912a594fa9f4"
      },
      "execution_count": null,
      "outputs": [
        {
          "output_type": "stream",
          "name": "stdout",
          "text": [
            "Downloading data from https://storage.googleapis.com/tensorflow/keras-applications/resnet/resnet50v2_weights_tf_dim_ordering_tf_kernels_notop.h5\n",
            "94668760/94668760 [==============================] - 3s 0us/step\n",
            "Epoch 1/10\n",
            "50/50 [==============================] - 404s 8s/step - loss: 3.2039 - accuracy: 0.9131 - val_loss: 0.5941 - val_accuracy: 0.9550\n",
            "Epoch 2/10\n",
            "50/50 [==============================] - 377s 8s/step - loss: 0.4948 - accuracy: 0.9669 - val_loss: 0.1802 - val_accuracy: 0.9925\n",
            "Epoch 3/10\n",
            "50/50 [==============================] - 380s 8s/step - loss: 0.5925 - accuracy: 0.9613 - val_loss: 0.1008 - val_accuracy: 0.9950\n",
            "Epoch 4/10\n",
            "50/50 [==============================] - 380s 8s/step - loss: 0.4965 - accuracy: 0.9706 - val_loss: 3.5166 - val_accuracy: 0.8775\n",
            "Epoch 5/10\n",
            "50/50 [==============================] - 379s 8s/step - loss: 0.3008 - accuracy: 0.9769 - val_loss: 0.5644 - val_accuracy: 0.9725\n",
            "Epoch 6/10\n",
            "50/50 [==============================] - 379s 8s/step - loss: 0.1768 - accuracy: 0.9869 - val_loss: 0.3999 - val_accuracy: 0.9850\n",
            "Epoch 7/10\n",
            "50/50 [==============================] - 362s 7s/step - loss: 0.0480 - accuracy: 0.9925 - val_loss: 0.2333 - val_accuracy: 0.9825\n",
            "Epoch 8/10\n",
            "50/50 [==============================] - 377s 8s/step - loss: 0.0025 - accuracy: 0.9994 - val_loss: 0.6600 - val_accuracy: 0.9575\n",
            "Epoch 9/10\n",
            "50/50 [==============================] - 375s 8s/step - loss: 0.0039 - accuracy: 0.9994 - val_loss: 0.1537 - val_accuracy: 0.9950\n",
            "Epoch 9: early stopping\n"
          ]
        }
      ]
    },
    {
      "cell_type": "code",
      "source": [
        "import matplotlib.pyplot as plt\n",
        "plt.plot(H.history['accuracy'])\n",
        "plt.plot(H.history['val_accuracy'])\n",
        "plt.title('Model accuracy')\n",
        "plt.xlabel('Epoch')\n",
        "plt.ylabel('accuracy')\n",
        "plt.legend(['Train', 'Validation'], loc='upper right')\n",
        "plt.show()\n",
        "\n",
        "# Plot training & validation loss\n",
        "plt.plot(H.history['loss'])\n",
        "plt.plot(H.history['val_loss'])\n",
        "plt.title('Model Loss')\n",
        "plt.xlabel('Epoch')\n",
        "plt.ylabel('Loss')\n",
        "plt.legend(['Train', 'Validation'], loc='upper right')\n",
        "plt.show()\n"
      ],
      "metadata": {
        "colab": {
          "base_uri": "https://localhost:8080/",
          "height": 927
        },
        "id": "YqtlQBqIImm5",
        "outputId": "89396e23-0f58-4477-9011-46e6fc3c00f1"
      },
      "execution_count": null,
      "outputs": [
        {
          "output_type": "display_data",
          "data": {
            "text/plain": [
              "<Figure size 640x480 with 1 Axes>"
            ],
            "image/png": "[encoded data removed]"
          },
          "metadata": {}
        },
        {
          "output_type": "display_data",
          "data": {
            "text/plain": [
              "<Figure size 640x480 with 1 Axes>"
            ],
            "image/png": "[encoded data removed]"
          },
          "metadata": {}
        }
      ]
    },
    {
      "cell_type": "code",
      "source": [
        "model.save('resnet50v2.h5')"
      ],
      "metadata": {
        "colab": {
          "base_uri": "https://localhost:8080/"
        },
        "id": "R8C4IwVRV9cs",
        "outputId": "5fed1562-36f3-4d1f-aba5-39fac05fa66e"
      },
      "execution_count": null,
      "outputs": [
        {
          "output_type": "stream",
          "name": "stderr",
          "text": [
            "/usr/local/lib/python3.10/dist-packages/keras/src/engine/training.py:3103: UserWarning: You are saving your model as an HDF5 file via `model.save()`. This file format is considered legacy. We recommend using instead the native Keras format, e.g. `model.save('my_model.keras')`.\n",
            "  saving_api.save_model(\n"
          ]
        }
      ]
    },
    {
      "cell_type": "code",
      "source": [
        "# Define the path where the model is saved in Google Drive\n",
        "drive_path = '/content/drive/My Drive/'\n",
        "\n",
        "# Load the model from Google Drive\n",
        "from keras.models import load_model\n",
        "model = load_model(drive_path + 'resnet50v2.h5')\n"
      ],
      "metadata": {
        "id": "uOvq8E48-zDR"
      },
      "execution_count": null,
      "outputs": []
    },
    {
      "cell_type": "code",
      "source": [
        "import os\n",
        "import numpy as np\n",
        "import cv2\n",
        "def load_images_from_folder(folder):\n",
        "    images = []\n",
        "    labels = []\n",
        "    for filename in os.listdir(folder):\n",
        "        img_path = os.path.join(folder, filename)\n",
        "        img = cv2.imread(img_path)\n",
        "        if img is not None:\n",
        "            images.append(img)\n",
        "            if \"COVID-\" in filename:\n",
        "                labels.append(1)  # COVID-19 Positive class\n",
        "            elif \"Normal-\" in filename:\n",
        "                labels.append(0)  # COVID-19 Negative class\n",
        "    return images, labels\n",
        "# Paths to folders containing images\n",
        "covid_positive_folder_test = \"/content/drive/MyDrive/main_project/Test/positive_masks\"\n",
        "covid_negative_folder_test = \"/content/drive/MyDrive/main_project/Test/negative_masks\"\n",
        "\n",
        "# Load images and corresponding labels\n",
        "covid_pos_images_test, covid_pos_labels_test = load_images_from_folder(covid_positive_folder_test)\n",
        "covid_neg_images_test, covid_neg_labels_test = load_images_from_folder(covid_negative_folder_test)\n",
        "\n",
        "# Convert lists to numpy arrays\n",
        "covid_pos_images_test1 = np.array(covid_pos_images_test)\n",
        "covid_neg_images_test1 = np.array(covid_neg_images_test)\n",
        "covid_pos_labels_test1 = np.array(covid_pos_labels_test)\n",
        "covid_neg_labels_test1 = np.array(covid_neg_labels_test)\n",
        "\n",
        "# Save numpy arrays and labels to .npy files\n",
        "#np.save('covid_positive_images_test.npy', covid_pos_images)\n",
        "#np.save('covid_negative_images_test.npy', covid_neg_images)\n",
        "#np.save('covid_positive_labels_test.npy', covid_pos_labels)\n",
        "#np.save('covid_negative_labels_test.npy', covid_neg_labels)\n",
        "\n",
        "# Combine positive and negative samples\n",
        "all_images_test = np.concatenate((covid_pos_images_test1, covid_neg_images_test1), axis=0)\n",
        "all_labels_test = np.concatenate((covid_pos_labels_test1, covid_neg_labels_test1), axis=0)\n"
      ],
      "metadata": {
        "id": "YPEWrHBRWDhd"
      },
      "execution_count": null,
      "outputs": []
    },
    {
      "cell_type": "code",
      "source": [
        "from tensorflow.keras.models import load_model\n",
        "from scipy import ndimage\n",
        "drive_path = '/content/drive/My Drive/'\n",
        "model = load_model(drive_path+'resnet50v2.h5')\n",
        "\n",
        "# Define a function to resize numpy arrays\n",
        "def resize_array(array, new_shape):\n",
        "    return np.array([ndimage.zoom(img, (new_shape[0] / img.shape[0], new_shape[1] / img.shape[1], 1), order=1) for img in array])\n",
        "\n",
        "\n",
        "# Resize input numpy arrays to match the desired shape\n",
        "test_images_resized = resize_array(all_images_test, (224, 224))\n",
        "\n",
        "\n",
        "# Ensure data is in the correct format\n",
        "processed_images_test= test_images_resized.astype('float32') / 255.0\n",
        "\n",
        "# Predict probabilities for the positive class\n",
        "probabilities_positive = model.predict(processed_images_test)\n",
        "\n",
        "# Set a threshold for classification (e.g., 0.5)\n",
        "threshold = 0.5\n",
        "\n",
        "# Convert probabilities to binary predictions based on the threshold\n",
        "predicted_classes_test_binary = (probabilities_positive >threshold).astype('int')\n",
        "\n",
        "# Ensure predicted classes are integers\n",
        "predicted_classes_test_binary = predicted_classes_test_binary.flatten()\n",
        "# Define your class labels\n",
        "class_labels = ['COVID-19 negative', 'COVID-19 positive']\n",
        "\n",
        "\n",
        "# Map predicted classes to labels\n",
        "predicted_labels_test_binary = [class_labels[pred_class] for pred_class in predicted_classes_test_binary]\n",
        "\n",
        "# Print the predicted labels for each image\n",
        "for i in range(len(predicted_labels_test_binary)):\n",
        "    print(f\"Image {i + 1}: Predicted Class - {predicted_labels_test_binary[i]}\")\n",
        "\n"
      ],
      "metadata": {
        "colab": {
          "base_uri": "https://localhost:8080/"
        },
        "id": "JUDEUwZGWG-b",
        "outputId": "ce7a627d-bba1-448d-f461-c232c7da3ab2"
      },
      "execution_count": null,
      "outputs": [
        {
          "output_type": "stream",
          "name": "stdout",
          "text": [
            "1/1 [==============================] - 8s 8s/step\n",
            "Image 1: Predicted Class - COVID-19 positive\n",
            "Image 2: Predicted Class - COVID-19 positive\n",
            "Image 3: Predicted Class - COVID-19 positive\n",
            "Image 4: Predicted Class - COVID-19 positive\n",
            "Image 5: Predicted Class - COVID-19 positive\n",
            "Image 6: Predicted Class - COVID-19 positive\n",
            "Image 7: Predicted Class - COVID-19 positive\n",
            "Image 8: Predicted Class - COVID-19 positive\n",
            "Image 9: Predicted Class - COVID-19 positive\n",
            "Image 10: Predicted Class - COVID-19 positive\n",
            "Image 11: Predicted Class - COVID-19 positive\n",
            "Image 12: Predicted Class - COVID-19 positive\n",
            "Image 13: Predicted Class - COVID-19 positive\n",
            "Image 14: Predicted Class - COVID-19 positive\n",
            "Image 15: Predicted Class - COVID-19 positive\n",
            "Image 16: Predicted Class - COVID-19 negative\n",
            "Image 17: Predicted Class - COVID-19 negative\n",
            "Image 18: Predicted Class - COVID-19 negative\n",
            "Image 19: Predicted Class - COVID-19 negative\n",
            "Image 20: Predicted Class - COVID-19 negative\n",
            "Image 21: Predicted Class - COVID-19 negative\n",
            "Image 22: Predicted Class - COVID-19 negative\n",
            "Image 23: Predicted Class - COVID-19 negative\n",
            "Image 24: Predicted Class - COVID-19 negative\n",
            "Image 25: Predicted Class - COVID-19 negative\n",
            "Image 26: Predicted Class - COVID-19 negative\n",
            "Image 27: Predicted Class - COVID-19 negative\n",
            "Image 28: Predicted Class - COVID-19 positive\n",
            "Image 29: Predicted Class - COVID-19 negative\n",
            "Image 30: Predicted Class - COVID-19 positive\n"
          ]
        }
      ]
    },
    {
      "cell_type": "code",
      "source": [
        "# Import necessary libraries\n",
        "from sklearn.metrics import classification_report, confusion_matrix\n",
        "class_labels=['covid-19 positive','covid-19 negative']\n",
        "# Generate classification report\n",
        "print(\"Classification Report:\")\n",
        "print(classification_report(all_labels_test, predicted_classes_test_binary, target_names=class_labels))\n",
        "\n",
        "# Generate confusion matrix\n",
        "print(\"Confusion Matrix:\")\n",
        "print(confusion_matrix(all_labels_test, predicted_classes_test_binary))\n"
      ],
      "metadata": {
        "colab": {
          "base_uri": "https://localhost:8080/"
        },
        "id": "TJfMcXq9W5uM",
        "outputId": "31661aca-5f11-4bc0-e9c3-0acf5ebcc9e0"
      },
      "execution_count": null,
      "outputs": [
        {
          "output_type": "stream",
          "name": "stdout",
          "text": [
            "Classification Report:\n",
            "                   precision    recall  f1-score   support\n",
            "\n",
            "covid-19 positive       1.00      0.87      0.93        15\n",
            "covid-19 negative       0.88      1.00      0.94        15\n",
            "\n",
            "         accuracy                           0.93        30\n",
            "        macro avg       0.94      0.93      0.93        30\n",
            "     weighted avg       0.94      0.93      0.93        30\n",
            "\n",
            "Confusion Matrix:\n",
            "[[13  2]\n",
            " [ 0 15]]\n"
          ]
        }
      ]
    },
    {
      "cell_type": "code",
      "source": [
        "from sklearn.metrics import roc_curve, auc\n",
        "import matplotlib.pyplot as plt\n",
        "\n",
        "# Assuming you have true labels for the test data stored in true_labels_test\n",
        "\n",
        "# Compute ROC curve and ROC area for each class\n",
        "fpr, tpr, _ = roc_curve(all_labels_test, probabilities_positive)\n",
        "roc_auc = auc(fpr, tpr)\n",
        "\n",
        "# Assign values to tpr\n",
        "tpr_values = tpr.flatten()  # Flatten the array if needed\n",
        "\n",
        "# Plot ROC curve\n",
        "plt.figure()\n",
        "lw = 2\n",
        "plt.plot(fpr, tpr_values, color='darkorange',\n",
        "         lw=lw, label='ROC curve (area = %0.2f)' % roc_auc)\n",
        "plt.plot([0, 1], [0, 1], color='navy', lw=lw, linestyle='--')\n",
        "plt.xlim([0.0, 1.0])\n",
        "plt.ylim([0.0, 1.05])\n",
        "plt.xlabel('False Positive Rate')\n",
        "plt.ylabel('True Positive Rate')\n",
        "plt.title('Receiver Operating Characteristic (ROC) Curve')\n",
        "plt.legend(loc=\"lower right\")\n",
        "plt.show()\n"
      ],
      "metadata": {
        "colab": {
          "base_uri": "https://localhost:8080/",
          "height": 472
        },
        "id": "TbPo1ms_XP3L",
        "outputId": "9c93df43-1735-45d3-98c7-5fc2f02a74b0"
      },
      "execution_count": null,
      "outputs": [
        {
          "output_type": "display_data",
          "data": {
            "text/plain": [
              "<Figure size 640x480 with 1 Axes>"
            ],
            "image/png": "[encoded data removed]"
          },
          "metadata": {}
        }
      ]
    },
    {
      "cell_type": "code",
      "source": [
        "# Define the path where the model is saved in Google Drive\n",
        "drive_path = '/content/drive/My Drive/'\n",
        "\n",
        "# Load the model from Google Drive\n",
        "from keras.models import load_model\n",
        "model = load_model(drive_path + 'resnet50v2.h5')\n",
        "import os\n",
        "import numpy as np\n",
        "import cv2\n",
        "from scipy import ndimage\n"
      ],
      "metadata": {
        "id": "eo19OFDgXebb"
      },
      "execution_count": null,
      "outputs": []
    },
    {
      "cell_type": "code",
      "source": [
        "import os\n",
        "import numpy as np\n",
        "import cv2\n",
        "from scipy import ndimage\n",
        "# Function to load images from a directory and convert them to numpy arrays\n",
        "def load_images_from_folder(folder):\n",
        "    images = []\n",
        "    labels = []\n",
        "    for filename in os.listdir(folder):\n",
        "        img_path = os.path.join(folder, filename)\n",
        "        img = cv2.imread(img_path)\n",
        "        if img is not None:\n",
        "            images.append(img)\n",
        "            if \"COVID-\" in filename:\n",
        "                labels.append(1)  # COVID-19 Positive class\n",
        "            elif \"Normal-\" in filename:\n",
        "                labels.append(0)  # COVID-19 Negative class\n",
        "    return images, labels\n",
        "\n",
        "\n",
        "# Paths to folders containing images\n",
        "covid_positive_folder_test = \"/content/drive/MyDrive/main_project/test2/covid_positive\"\n",
        "covid_negative_folder_test = \"/content/drive/MyDrive/main_project/test2/covid_negative\"\n",
        "\n",
        "# Load images and corresponding labels\n",
        "covid_pos_images_test, covid_pos_labels_test = load_images_from_folder(covid_positive_folder_test)\n",
        "covid_neg_images_test, covid_neg_labels_test = load_images_from_folder(covid_negative_folder_test)\n",
        "\n",
        "# Convert lists to numpy arrays\n",
        "covid_pos_images_test1 = np.array(covid_pos_images_test)\n",
        "covid_neg_images_test1 = np.array(covid_neg_images_test)\n",
        "covid_pos_labels_test1 = np.array(covid_pos_labels_test)\n",
        "covid_neg_labels_test1 = np.array(covid_neg_labels_test)\n",
        "\n",
        "# Combine positive and negative samples\n",
        "all_images_test = np.concatenate((covid_pos_images_test1, covid_neg_images_test1), axis=0)\n",
        "all_labels_test = np.concatenate((covid_pos_labels_test1, covid_neg_labels_test1), axis=0)\n",
        "\n",
        "\n",
        "\n",
        "# Define a function to resize numpy arrays\n",
        "def resize_array(array, new_shape):\n",
        "    return np.array([ndimage.zoom(img, (new_shape[0] / img.shape[0], new_shape[1] / img.shape[1], 1), order=1) for img in array])\n",
        "\n",
        "\n",
        "# Resize input numpy arrays to match the desired shape\n",
        "test_images_resized = resize_array(all_images_test, (224, 224))\n",
        "\n",
        "\n",
        "# Ensure data is in the correct format\n",
        "processed_images_test= test_images_resized.astype('float32') / 255.0\n",
        "\n",
        "# Predict probabilities for the positive class\n",
        "probabilities_positive = model.predict(processed_images_test)\n",
        "\n",
        "# Set a threshold for classification\n",
        "threshold = 0.5\n",
        "\n",
        "# Convert probabilities to binary predictions based on the threshold\n",
        "predicted_classes_test_binary = (probabilities_positive >threshold).astype('int')\n",
        "\n",
        "# Ensure predicted classes are integers\n",
        "predicted_classes_test_binary = predicted_classes_test_binary.flatten()\n",
        "# Define your class labels\n",
        "class_labels = ['COVID-19 negative', 'COVID-19 positive']\n",
        "\n",
        "\n",
        "# Map predicted classes to labels\n",
        "predicted_labels_test_binary = [class_labels[pred_class] for pred_class in predicted_classes_test_binary]\n",
        "\n",
        "# Print the predicted labels for each image\n",
        "for i in range(len(predicted_labels_test_binary)):\n",
        "    print(f\"Image {i + 1}: Predicted Class - {predicted_labels_test_binary[i]}\")\n",
        "\n",
        "\n",
        "\n"
      ],
      "metadata": {
        "colab": {
          "base_uri": "https://localhost:8080/"
        },
        "id": "HC7oOQ4431Gs",
        "outputId": "67c9aa64-cc52-4a74-c3b7-1a6aa310ddb2"
      },
      "execution_count": null,
      "outputs": [
        {
          "output_type": "stream",
          "name": "stdout",
          "text": [
            "2/2 [==============================] - 13s 6s/step\n",
            "Image 1: Predicted Class - COVID-19 negative\n",
            "Image 2: Predicted Class - COVID-19 positive\n",
            "Image 3: Predicted Class - COVID-19 positive\n",
            "Image 4: Predicted Class - COVID-19 positive\n",
            "Image 5: Predicted Class - COVID-19 positive\n",
            "Image 6: Predicted Class - COVID-19 positive\n",
            "Image 7: Predicted Class - COVID-19 positive\n",
            "Image 8: Predicted Class - COVID-19 positive\n",
            "Image 9: Predicted Class - COVID-19 positive\n",
            "Image 10: Predicted Class - COVID-19 positive\n",
            "Image 11: Predicted Class - COVID-19 positive\n",
            "Image 12: Predicted Class - COVID-19 positive\n",
            "Image 13: Predicted Class - COVID-19 positive\n",
            "Image 14: Predicted Class - COVID-19 positive\n",
            "Image 15: Predicted Class - COVID-19 negative\n",
            "Image 16: Predicted Class - COVID-19 positive\n",
            "Image 17: Predicted Class - COVID-19 positive\n",
            "Image 18: Predicted Class - COVID-19 positive\n",
            "Image 19: Predicted Class - COVID-19 positive\n",
            "Image 20: Predicted Class - COVID-19 positive\n",
            "Image 21: Predicted Class - COVID-19 positive\n",
            "Image 22: Predicted Class - COVID-19 negative\n",
            "Image 23: Predicted Class - COVID-19 positive\n",
            "Image 24: Predicted Class - COVID-19 positive\n",
            "Image 25: Predicted Class - COVID-19 positive\n",
            "Image 26: Predicted Class - COVID-19 negative\n",
            "Image 27: Predicted Class - COVID-19 positive\n",
            "Image 28: Predicted Class - COVID-19 positive\n",
            "Image 29: Predicted Class - COVID-19 positive\n",
            "Image 30: Predicted Class - COVID-19 positive\n",
            "Image 31: Predicted Class - COVID-19 negative\n",
            "Image 32: Predicted Class - COVID-19 negative\n",
            "Image 33: Predicted Class - COVID-19 negative\n",
            "Image 34: Predicted Class - COVID-19 negative\n",
            "Image 35: Predicted Class - COVID-19 negative\n",
            "Image 36: Predicted Class - COVID-19 negative\n",
            "Image 37: Predicted Class - COVID-19 negative\n",
            "Image 38: Predicted Class - COVID-19 negative\n",
            "Image 39: Predicted Class - COVID-19 negative\n",
            "Image 40: Predicted Class - COVID-19 negative\n",
            "Image 41: Predicted Class - COVID-19 negative\n",
            "Image 42: Predicted Class - COVID-19 negative\n",
            "Image 43: Predicted Class - COVID-19 negative\n",
            "Image 44: Predicted Class - COVID-19 negative\n",
            "Image 45: Predicted Class - COVID-19 negative\n",
            "Image 46: Predicted Class - COVID-19 negative\n",
            "Image 47: Predicted Class - COVID-19 negative\n",
            "Image 48: Predicted Class - COVID-19 negative\n",
            "Image 49: Predicted Class - COVID-19 negative\n",
            "Image 50: Predicted Class - COVID-19 negative\n",
            "Image 51: Predicted Class - COVID-19 negative\n",
            "Image 52: Predicted Class - COVID-19 negative\n",
            "Image 53: Predicted Class - COVID-19 negative\n",
            "Image 54: Predicted Class - COVID-19 negative\n",
            "Image 55: Predicted Class - COVID-19 negative\n",
            "Image 56: Predicted Class - COVID-19 negative\n",
            "Image 57: Predicted Class - COVID-19 negative\n",
            "Image 58: Predicted Class - COVID-19 negative\n",
            "Image 59: Predicted Class - COVID-19 negative\n",
            "Image 60: Predicted Class - COVID-19 negative\n"
          ]
        }
      ]
    },
    {
      "cell_type": "code",
      "source": [
        "# Import necessary libraries\n",
        "from sklearn.metrics import classification_report, confusion_matrix\n",
        "class_labels=['covid-19 positive','covid-19 negative']\n",
        "# Generate classification report\n",
        "print(\"Classification Report:\")\n",
        "print(classification_report(all_labels_test, predicted_classes_test_binary, target_names=class_labels))\n",
        "\n",
        "# Generate confusion matrix\n",
        "print(\"Confusion Matrix:\")\n",
        "print(confusion_matrix(all_labels_test, predicted_classes_test_binary))\n"
      ],
      "metadata": {
        "colab": {
          "base_uri": "https://localhost:8080/"
        },
        "id": "CpgJuc_059D5",
        "outputId": "bbcad61f-958e-45fe-8a3f-e9c2dae901fd"
      },
      "execution_count": null,
      "outputs": [
        {
          "output_type": "stream",
          "name": "stdout",
          "text": [
            "Classification Report:\n",
            "                   precision    recall  f1-score   support\n",
            "\n",
            "covid-19 positive       0.88      1.00      0.94        30\n",
            "covid-19 negative       1.00      0.87      0.93        30\n",
            "\n",
            "         accuracy                           0.93        60\n",
            "        macro avg       0.94      0.93      0.93        60\n",
            "     weighted avg       0.94      0.93      0.93        60\n",
            "\n",
            "Confusion Matrix:\n",
            "[[30  0]\n",
            " [ 4 26]]\n"
          ]
        }
      ]
    },
    {
      "cell_type": "code",
      "source": [
        "\n",
        "# Define the path where you want to save the model in Google Drive\n",
        "drive_path = '/content/drive/My Drive/'\n",
        "\n",
        "# Save the model to Google Drive\n",
        "model.save(drive_path + 'resnet50v2.h5')\n"
      ],
      "metadata": {
        "id": "k7n4jzt990yX",
        "colab": {
          "base_uri": "https://localhost:8080/"
        },
        "outputId": "106d02ff-9766-455a-f794-33287266c5de"
      },
      "execution_count": null,
      "outputs": [
        {
          "output_type": "stream",
          "name": "stderr",
          "text": [
            "/usr/local/lib/python3.10/dist-packages/keras/src/engine/training.py:3103: UserWarning: You are saving your model as an HDF5 file via `model.save()`. This file format is considered legacy. We recommend using instead the native Keras format, e.g. `model.save('my_model.keras')`.\n",
            "  saving_api.save_model(\n"
          ]
        }
      ]
    },
    {
      "cell_type": "code",
      "source": [
        "\n",
        "# Define the path where you want to save the model in Google Drive\n",
        "drive_path = '/content/drive/My Drive/'\n",
        "\n",
        "\n",
        "\n",
        "import joblib\n",
        "from tensorflow.keras.models import load_model\n",
        "\n",
        "# Load the .h5 model\n",
        "model_h5 = load_model(drive_path+'resnet50v2.h5')\n",
        "\n",
        "# Convert the model to byte stream using joblib\n",
        "with open('model.pkl', 'wb') as file:\n",
        "    joblib.dump(model_h5, file)\n"
      ],
      "metadata": {
        "id": "ZagVsLFcv2SN"
      },
      "execution_count": null,
      "outputs": []
    },
    {
      "cell_type": "code",
      "source": [
        "import joblib\n",
        "drive_path = '/content/drive/My Drive/'\n",
        "model = load_model(drive_path + 'resnet50v2.h5')\n",
        "\n",
        "# Serialize the model to a pickle file\n",
        "joblib.dump(model, drive_path + 'resnet50v2.pkl')"
      ],
      "metadata": {
        "id": "wEKKaaB8shZ-",
        "colab": {
          "base_uri": "https://localhost:8080/"
        },
        "outputId": "93beb183-727b-4f10-841e-6304a4d1cac2"
      },
      "execution_count": null,
      "outputs": [
        {
          "output_type": "execute_result",
          "data": {
            "text/plain": [
              "['/content/drive/My Drive/resnet50v2.pkl']"
            ]
          },
          "metadata": {},
          "execution_count": 12
        }
      ]
    },
    {
      "cell_type": "code",
      "source": [
        "import pickle\n",
        "import tensorflow as tf\n",
        "drive_path = '/content/drive/My Drive/'\n",
        "\n",
        "# Load the model from the .h5 file\n",
        "model = tf.keras.models.load_model(drive_path +'resnet50v2.h5')\n",
        "\n",
        "# Extract model weights and architecture\n",
        "model_weights = model.get_weights()\n",
        "model_config = model.get_config()\n",
        "\n",
        "# Save weights and config as a .pkl file\n",
        "with open('model.pkl', 'wb') as f:\n",
        "    pickle.dump([model_weights, model_config], f)"
      ],
      "metadata": {
        "id": "Bl8UxVjv-VSc"
      },
      "execution_count": null,
      "outputs": []
    },
    {
      "cell_type": "code",
      "source": [
        "print(tf.__version__)"
      ],
      "metadata": {
        "colab": {
          "base_uri": "https://localhost:8080/"
        },
        "id": "q3J2nTtClYKI",
        "outputId": "e3722451-73cc-46e8-dba2-daeb119c04a0"
      },
      "execution_count": null,
      "outputs": [
        {
          "output_type": "stream",
          "name": "stdout",
          "text": [
            "2.15.0\n"
          ]
        }
      ]
    },
    {
      "cell_type": "code",
      "source": [],
      "metadata": {
        "id": "8Iu6NGRmrnJN"
      },
      "execution_count": null,
      "outputs": []
    }
  ]
}